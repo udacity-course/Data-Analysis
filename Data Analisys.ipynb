{
 "cells": [
  {
   "cell_type": "code",
   "execution_count": 35,
   "metadata": {},
   "outputs": [],
   "source": [
    "import numpy as np\n",
    "import matplotlib.pyplot as plt\n",
    "import pandas\n",
    "import seaborn as sns\n",
    "import csv\n",
    "from datetime import datetime\n",
    "from collections import defaultdict"
   ]
  },
  {
   "cell_type": "markdown",
   "metadata": {},
   "source": [
    "## Functions"
   ]
  },
  {
   "cell_type": "code",
   "execution_count": 2,
   "metadata": {},
   "outputs": [],
   "source": [
    "def parse_date(arg):\n",
    "    if arg == \"\":\n",
    "        return None\n",
    "    else:\n",
    "        return datetime.strptime(arg, \"%Y-%m-%d\").date()\n",
    "\n",
    "def parse_int(arg):\n",
    "    if arg == '':\n",
    "        return None\n",
    "    else:\n",
    "        return int(arg)\n",
    "\n",
    "def parse_float(arg):\n",
    "    if arg == '' or None:\n",
    "        return None\n",
    "    else:\n",
    "        return float(arg)\n",
    "\n",
    "def date_sustract(date1,date2):\n",
    "    if date1 == None or date2 == None:\n",
    "        return -100\n",
    "    else:\n",
    "        return (date1-date2).days\n",
    "\n",
    "def students_number(arr):\n",
    "    students = set()\n",
    "    for student in arr:\n",
    "        students.add(student[\"account_key\"])\n",
    "    return len(students)\n",
    "\n",
    "def get_students(arr):\n",
    "    students = set()\n",
    "    for student in arr:\n",
    "        students.add(student[\"account_key\"])\n",
    "    return students\n",
    "\n",
    "def remove_students(arr,to_delete):\n",
    "    tmp = []\n",
    "\n",
    "    for data in arr:\n",
    "        if data[\"account_key\"] not in to_delete:\n",
    "            tmp.append(data)\n",
    "\n",
    "    return tmp\n",
    "\n",
    "def remove_free_trial(arr,students):\n",
    "    non_free_trial = []\n",
    "\n",
    "    for data in arr:\n",
    "        if data['account_key'] in students:\n",
    "            non_free_trial.append(data)\n",
    "\n",
    "    return non_free_trial\n",
    "\n",
    "def data_per_account(data,column):\n",
    "    data_per_account = {}\n",
    "\n",
    "    for account_key,data in data.items():\n",
    "        total_data = 0\n",
    "        for values in data:\n",
    "            total_data += values[column]\n",
    "        data_per_account[account_key] = total_data\n",
    "\n",
    "    return  data_per_account\n",
    "\n",
    "def group_data(dataList):\n",
    "    data_dict = defaultdict(list)\n",
    "\n",
    "    for data in dataList:\n",
    "        account_key = data[\"account_key\"]\n",
    "        data_dict[account_key].append(data)\n",
    "    return data_dict\n",
    "\n",
    "def describe_data(data):\n",
    "    print(\"Mean\",np.average(data))\n",
    "    print(\"Standart deviation:\",np.std(data))\n",
    "    print(\"Minmun\",np.min(data))\n",
    "    print(\"Maximun\",np.max(data))\n"
   ]
  },
  {
   "cell_type": "code",
   "execution_count": 3,
   "metadata": {},
   "outputs": [],
   "source": [
    "def get_enrollments():\n",
    "\n",
    "    enrollemnts_path = 'csv_files/enrollments.csv'\n",
    "\n",
    "    with open(enrollemnts_path) as f:\n",
    "        csv_reader = csv.DictReader(f)\n",
    "\n",
    "\n",
    "        #print(csv_reader.dialect)\n",
    "        #print(csv_reader.fieldnames)\n",
    "\n",
    "        enrollments = []\n",
    "\n",
    "        days_to_cancel = []\n",
    "\n",
    "        for data in csv_reader:\n",
    "\n",
    "            data[\"account_key\"] = parse_int(data[\"account_key\"])\n",
    "            data[\"cancel_date\"] = parse_date(data[\"cancel_date\"])\n",
    "            data[\"join_date\"] = parse_date(data[\"join_date\"])\n",
    "            data[\"days_to_cancel\"] = parse_int(data[\"days_to_cancel\"])\n",
    "            data[\"is_udacity\"] = data[\"is_udacity\"] == \"True\"\n",
    "            data[\"is_canceled\"] = data[\"is_canceled\"] == \"True\"\n",
    "\n",
    "\n",
    "            enrollments.append(data)\n",
    "\n",
    "        for data in enrollments:\n",
    "            tmp = date_sustract(data[\"cancel_date\"], data[\"join_date\"])\n",
    "            if tmp == -100:\n",
    "                continue\n",
    "            days_to_cancel.append(tmp)\n",
    "\n",
    "        tmp = date_sustract(enrollments[0][\"cancel_date\"],enrollments[0][\"join_date\"])\n",
    "        #print(enrollments[0][\"cancel_date\"],enrollments[0][\"join_date\"], \"=\",tmp,type(tmp),'\\n\\n' )\n",
    "\n",
    "        days_to_cancel.sort()\n",
    "        days_to_cancel.reverse()\n",
    "        #plt.hist(days_to_cancel,100,histtype='bar',ec='black')\n",
    "        #plt.grid(True)\n",
    "        #plt.show()\n",
    "        print (\"enrollments =\",(len(enrollments)), students_number(enrollments))\n",
    "\n",
    "        return enrollments\n"
   ]
  },
  {
   "cell_type": "code",
   "execution_count": 4,
   "metadata": {},
   "outputs": [],
   "source": [
    "def get_project_submissions():\n",
    "    project_submissions_path = \"csv_files/project_submissions.csv\"\n",
    "    with open(project_submissions_path) as f:\n",
    "        project_submissions_csv = csv.DictReader(f)\n",
    "\n",
    "        #print(list(project_submissions_csv)[0])\n",
    "        #print(project_submissions_csv.fieldnames)\n",
    "\n",
    "\n",
    "        project_submissions = []\n",
    "\n",
    "        for data in project_submissions_csv:\n",
    "            data[\"account_key\"] = parse_int(data[\"account_key\"])\n",
    "            data[\"creation_date\"] = parse_date(data[\"creation_date\"])\n",
    "            data[\"completion_date\"] = parse_date(data[\"completion_date\"])\n",
    "            project_submissions.append(data)\n",
    "\n",
    "        plot_data = []\n",
    "        for data in project_submissions:\n",
    "            tmp = date_sustract(data[\"completion_date\"],data[\"creation_date\"])\n",
    "            if tmp == -100 and tmp <40:\n",
    "                continue\n",
    "            plot_data.append(tmp)\n",
    "\n",
    "        #print(\"project_submissions =\",len(project_submissions), students_number(project_submissions))\n",
    "        #plt.hist(plot_data,100, histtype=\"bar\",ec=\"black\")\n",
    "        #plt.plot(plot_data,\"r.\")\n",
    "        #plt.show()\n",
    "\n",
    "        return project_submissions\n"
   ]
  },
  {
   "cell_type": "code",
   "execution_count": 5,
   "metadata": {},
   "outputs": [],
   "source": [
    "def get_daily_engagement():\n",
    "    project_daily_engagement = 'csv_files/daily_engagement.csv'\n",
    "\n",
    "    with open(project_daily_engagement) as f:\n",
    "        daily_engagement_csv = csv.DictReader(f)\n",
    "\n",
    "        daily_engagement = []\n",
    "        plot_data = []\n",
    "        #print(daily_engagement_csv.fieldnames)\n",
    "        for data in daily_engagement_csv:\n",
    "            data['account_key'] = parse_int(data['account_key'])\n",
    "            data['utc_date'] = parse_date(data['utc_date'])\n",
    "            data['num_courses_visited'] = parse_float(data['num_courses_visited'])\n",
    "            data['total_minutes_visited'] = parse_float(data['total_minutes_visited'])\n",
    "            data['lessons_completed'] = parse_float(data['lessons_completed'] )\n",
    "            data['projects_completed'] = parse_float(data['projects_completed'])\n",
    "            if data['num_courses_visited'] > 0:\n",
    "                data['is_visited'] = 1\n",
    "            else:\n",
    "                data['is_visited'] = 0\n",
    "            \n",
    "            daily_engagement.append(data)\n",
    "            plot_data.append(data['projects_completed'])\n",
    "\n",
    "\n",
    "        #print(\"daily_engagement =\",len(daily_engagement), students_number(daily_engagement))\n",
    "        #plt.hist(plot_data,3)\n",
    "        #plt.show()\n",
    "        return daily_engagement\n"
   ]
  },
  {
   "cell_type": "code",
   "execution_count": 6,
   "metadata": {},
   "outputs": [
    {
     "name": "stdout",
     "output_type": "stream",
     "text": [
      "nothing\n"
     ]
    }
   ],
   "source": [
    "\"\"\"\n",
    "def get_daily_engagement_full():\n",
    "    project_daily_engagement_full = '../Data/daily_engagement_full.csv'\n",
    "\n",
    "    with open(project_daily_engagement_full) as f:\n",
    "        daily_engagement_csv = csv.DictReader(f)\n",
    "\n",
    "        daily_engagement = []\n",
    "        plot_data = []\n",
    "        print(daily_engagement_csv.fieldnames)\n",
    "\n",
    "        for data in daily_engagement_csv:\n",
    "            data['account_key'] = parse_int(data['account_key'])\n",
    "            data['utc_date'] = parse_date(data['utc_date'])\n",
    "            data['total_minutes_visited'] = parse_float(data['total_minutes_visited'])\n",
    "            data['lessons_completed'] = parse_float(data['lessons_completed'] )\n",
    "            data['projects_completed'] = parse_float(data['projects_completed'])\n",
    "            daily_engagement.append(data)\n",
    "            plot_data.append(data['projects_completed'])\n",
    "            print(data)\n",
    "\n",
    "        # acct,registration_date,subscription_start,course_key,sibling_key,course_title,has_visited\n",
    "        #[ 'acct', 'registration_date', 'subscription_start', 'course_key', 'sibling_key', 'course_title', 'has_visited', 'lessons_completed', 'projects_completed', 'account_key']\n",
    "        #print(\"daily_engagement =\",len(daily_engagement), students_number(daily_engagement))\n",
    "        #plt.hist(plot_data,3)\n",
    "        #plt.show()\n",
    "        return daily_engagement\n",
    "\"\"\"\n",
    "print(\"nothing\")"
   ]
  },
  {
   "cell_type": "code",
   "execution_count": 7,
   "metadata": {},
   "outputs": [
    {
     "name": "stdout",
     "output_type": "stream",
     "text": [
      "enrollments = 1640 1302\n",
      "{448, 312, 1069, 1101, 818, 1304}\n"
     ]
    }
   ],
   "source": [
    "\n",
    "enrollments = get_enrollments()\n",
    "daily_engagement = get_daily_engagement()\n",
    "#daily_engagement_full = get_daily_engagement_full()\n",
    "project_submissions = get_project_submissions()\n",
    "students_engagement = get_students(daily_engagement)\n",
    "students_enrollments = get_students(enrollments)\n",
    "\n",
    "\n",
    "to_delete = set()\n",
    "\n",
    "for data in enrollments:\n",
    "    if data[\"is_udacity\"]:\n",
    "        to_delete.add(data[\"account_key\"])\n",
    "\n",
    "print(to_delete)\n",
    "\n",
    "enrollments = remove_students(enrollments,to_delete)\n",
    "daily_engagement = remove_students(daily_engagement,to_delete)\n",
    "project_submissions = remove_students(project_submissions,to_delete)\n",
    "\n",
    "\n",
    "#print(\"enrollments =\",len(enrollments), students_number(enrollments))\n",
    "#print(\"daily_engagement =\",len(daily_engagement), students_number(daily_engagement))\n",
    "#print(\"project_submissions =\",len(project_submissions), students_number(project_submissions))\n",
    "\n"
   ]
  },
  {
   "cell_type": "code",
   "execution_count": 8,
   "metadata": {},
   "outputs": [
    {
     "name": "stdout",
     "output_type": "stream",
     "text": [
      "995\n",
      "1293\n",
      "134549\n",
      "3618\n",
      "6919\n"
     ]
    }
   ],
   "source": [
    "\n",
    "\n",
    "\n",
    "paid_students = {}\n",
    "\n",
    "#print(enrollments[0])\n",
    "\n",
    "\n",
    "for data in enrollments:\n",
    "    if data[\"days_to_cancel\"] == None or data[\"days_to_cancel\"] > 7 :\n",
    "        account_key = data[\"account_key\"]\n",
    "        join_date = data[\"join_date\"]\n",
    "\n",
    "        if account_key not in paid_students.keys() or join_date > paid_students[account_key]:\n",
    "            paid_students[account_key] = data[\"join_date\"]\n",
    "\n",
    "\n",
    "\n",
    "print(len(paid_students))\n",
    "\n",
    "\n",
    "paid_enrollments = remove_free_trial(enrollments,paid_students.keys())\n",
    "paid_engagement =  remove_free_trial(daily_engagement,paid_students.keys())\n",
    "paid_submissions = remove_free_trial(project_submissions,paid_students.keys())\n",
    "\n",
    "\n",
    "print(len(paid_enrollments))\n",
    "print(len(paid_engagement))\n",
    "print(len(paid_submissions))\n",
    "\n",
    "\n",
    "paid_engagement_in_first_week = []\n",
    "\n",
    "for data in paid_engagement:\n",
    "\n",
    "    account_key = data['account_key']\n",
    "    join_date  = paid_students[account_key]\n",
    "    engagement_record_date = data['utc_date']\n",
    "    tmp = date_sustract(engagement_record_date,join_date)\n",
    "    if tmp < 7 and tmp >= 0:\n",
    "        paid_engagement_in_first_week.append(data)\n",
    "\n",
    "print(len(paid_engagement_in_first_week))\n",
    "\n",
    "\n"
   ]
  },
  {
   "cell_type": "code",
   "execution_count": 9,
   "metadata": {},
   "outputs": [
    {
     "name": "stdout",
     "output_type": "stream",
     "text": [
      "Mean 306.70832675342825\n",
      "Standart deviation: 412.99693340852957\n",
      "Minmun 0.0\n",
      "Maximun 3564.7332644989997\n"
     ]
    }
   ],
   "source": [
    "#see students in first week\n",
    "\n",
    "engagement_by_account = defaultdict(list)\n",
    "\n",
    "for data in paid_engagement_in_first_week:\n",
    "    account_key = data['account_key']\n",
    "    engagement_by_account[account_key].append(data)\n",
    "\n",
    "\n",
    "total_minutes_per_account = {}\n",
    "\n",
    "for account_key,data in engagement_by_account.items():\n",
    "    total_minutes = 0\n",
    "    for values in data:\n",
    "        total_minutes += values['total_minutes_visited']\n",
    "    total_minutes_per_account[account_key] = total_minutes\n",
    "\n",
    "total_minutes = list(total_minutes_per_account.values())\n",
    "\n",
    "#print(type(total_minutes))\n",
    "\n",
    "minutes_average = np.average(total_minutes)\n",
    "\n",
    "print(\"Mean\",minutes_average)\n",
    "print(\"Standart deviation:\",np.std(total_minutes))\n",
    "print(\"Minmun\",np.min(total_minutes))\n",
    "print(\"Maximun\",np.max(total_minutes))\n",
    "\n",
    "\n",
    "\n"
   ]
  },
  {
   "cell_type": "code",
   "execution_count": 10,
   "metadata": {},
   "outputs": [
    {
     "name": "stdout",
     "output_type": "stream",
     "text": [
      "163\n"
     ]
    }
   ],
   "source": [
    "max_minutes = np.max(total_minutes)\n",
    "for key in total_minutes_per_account.keys():\n",
    "    if total_minutes_per_account[key] == max_minutes:\n",
    "        print(key)\n",
    "        \n",
    "        "
   ]
  },
  {
   "cell_type": "code",
   "execution_count": 11,
   "metadata": {},
   "outputs": [
    {
     "name": "stdout",
     "output_type": "stream",
     "text": [
      "id \t utc_date  courses_visited projects_completed lessons_completed \ttotal_minutes_visited\n",
      "108 \t 2015-04-20 \t 2.0 \t\t 0.0 \t\t 0.0 \t\t\t 0.43189643055666666\n",
      "108 \t 2015-04-21 \t 1.0 \t\t 0.0 \t\t 0.0 \t\t\t 0.05678038611116667\n",
      "108 \t 2015-04-22 \t 2.0 \t\t 0.0 \t\t 0.0 \t\t\t 1.6519776861116666\n",
      "108 \t 2015-04-23 \t 1.0 \t\t 2.0 \t\t 0.0 \t\t\t 0.5971936777783333\n",
      "108 \t 2015-04-24 \t 0.0 \t\t 0.0 \t\t 0.0 \t\t\t 0.0\n",
      "108 \t 2015-04-25 \t 0.0 \t\t 0.0 \t\t 0.0 \t\t\t 0.0\n",
      "108 \t 2015-04-26 \t 0.0 \t\t 0.0 \t\t 0.0 \t\t\t 0.0\n",
      "0.11407700752324305\n"
     ]
    }
   ],
   "source": [
    "print(\"id\",\"\\t utc_date \",\"courses_visited\",\"projects_completed\",\"lessons_completed\",\"\\ttotal_minutes_visited\")\n",
    "\n",
    "suma = 0\n",
    "for data in engagement_by_account[108]:\n",
    "    print(data[\"account_key\"],\"\\t\",data[\"utc_date\"],\"\\t\",data[\"num_courses_visited\"],\"\\t\\t\",data[\"projects_completed\"],\"\\t\\t\",data[\"lessons_completed\"],\"\\t\\t\\t\",data[\"total_minutes_visited\"]/60)\n",
    "    suma += data[\"total_minutes_visited\"]\n",
    "\n",
    "print(suma/(60*24))\n",
    "    "
   ]
  },
  {
   "cell_type": "code",
   "execution_count": 12,
   "metadata": {},
   "outputs": [
    {
     "name": "stdout",
     "output_type": "stream",
     "text": [
      "Mean 1.636180904522613\n",
      "Standart deviation: 3.002561299829423\n",
      "Minmun 0.0\n",
      "Maximun 36.0\n"
     ]
    }
   ],
   "source": [
    "lessons_completed_per_account = {}\n",
    "\n",
    "for account_key,data in engagement_by_account.items():\n",
    "    total_lessons = 0\n",
    "    for values in data:\n",
    "        total_lessons += values['lessons_completed']\n",
    "    lessons_completed_per_account[account_key] = total_lessons\n",
    "\n",
    "total_lessons = list(lessons_completed_per_account.values())\n",
    "\n",
    "#print(type(total_minutes))\n",
    "\n",
    "print(\"Mean\",np.average(total_lessons))\n",
    "print(\"Standart deviation:\",np.std(total_lessons))\n",
    "print(\"Minmun\",np.min(total_lessons))\n",
    "print(\"Maximun\",np.max(total_lessons))"
   ]
  },
  {
   "cell_type": "code",
   "execution_count": 13,
   "metadata": {},
   "outputs": [
    {
     "name": "stdout",
     "output_type": "stream",
     "text": [
      "Mean 1.636180904522613\n",
      "Standart deviation: 3.002561299829423\n",
      "Minmun 0.0\n",
      "Maximun 36.0\n"
     ]
    }
   ],
   "source": [
    "lessons_completed_per_account = data_per_account(engagement_by_account,'lessons_completed')\n",
    "total_lessons = list(lessons_completed_per_account.values())\n",
    "describe_data(total_lessons)\n",
    "\n"
   ]
  },
  {
   "cell_type": "code",
   "execution_count": 14,
   "metadata": {},
   "outputs": [
    {
     "name": "stdout",
     "output_type": "stream",
     "text": [
      "Mean 2.8673366834170855\n",
      "Standart deviation: 2.2551980029196814\n",
      "Minmun 0\n",
      "Maximun 7\n"
     ]
    }
   ],
   "source": [
    "visisted_classroom_per_account = {}\n",
    "\n",
    "for account_key,data in engagement_by_account.items():\n",
    "    total_visits = 0\n",
    "    for values in data:\n",
    "        if values['num_courses_visited']:\n",
    "            total_visits += 1\n",
    "    visisted_classroom_per_account[account_key] = total_visits\n",
    "\n",
    "total_visits = list(visisted_classroom_per_account.values())\n",
    "\n",
    "#print(type(total_minutes))\n",
    "\n",
    "describe_data(total_visits)"
   ]
  },
  {
   "cell_type": "markdown",
   "metadata": {},
   "source": [
    "## Students who pass engagement and whos not pass"
   ]
  },
  {
   "cell_type": "code",
   "execution_count": 15,
   "metadata": {},
   "outputs": [
    {
     "name": "stdout",
     "output_type": "stream",
     "text": [
      "652\n",
      "845\n"
     ]
    }
   ],
   "source": [
    "#get account keys of whos passed the engagement\n",
    "passed_keys = list()\n",
    "not_passed_keys = list()\n",
    "\n",
    "for data in paid_submissions:\n",
    "    if data[\"lesson_key\"] == \"746169184\" or data[\"lesson_key\"] == \"3176718735\":\n",
    "        if data[\"assigned_rating\"] == 'PASSED' or data[\"assigned_rating\"] == 'DISTINCTION' :\n",
    "            passed_keys.append(data[\"account_key\"])\n",
    "        else:\n",
    "            not_passed_keys.append(data[\"account_key\"])\n",
    "    \n",
    "print(len(passed_keys))\n",
    "print(len(not_passed_keys))"
   ]
  },
  {
   "cell_type": "code",
   "execution_count": 16,
   "metadata": {},
   "outputs": [],
   "source": [
    "passing_engagement = []\n",
    "non_passing_engagement = []\n",
    "\n",
    "for data in paid_engagement_in_first_week:\n",
    "    account_key = data[\"account_key\"]\n",
    "    \n",
    "    if account_key in passed_keys:\n",
    "        passing_engagement.append(data) \n",
    "    else:\n",
    "        non_passing_engagement.append(data)\n"
   ]
  },
  {
   "cell_type": "code",
   "execution_count": 17,
   "metadata": {},
   "outputs": [],
   "source": [
    "passing_engagement_data_dict = group_data(passing_engagement)\n",
    "non_passing_engagement_data_dict = group_data(non_passing_engagement)\n",
    "    "
   ]
  },
  {
   "cell_type": "code",
   "execution_count": 18,
   "metadata": {},
   "outputs": [
    {
     "name": "stdout",
     "output_type": "stream",
     "text": [
      "passing studentes\n",
      "Mean 394.58604648350865\n",
      "Standart deviation: 448.4995193265521\n",
      "Minmun 0.0\n",
      "Maximun 3564.7332644989997\n",
      "\n",
      "\n",
      "non passing students\n",
      "Mean 143.32647426675584\n",
      "Standart deviation: 269.5386190114951\n",
      "Minmun 0.0\n",
      "Maximun 1768.5227493319999\n"
     ]
    }
   ],
   "source": [
    "print(\"passing studentes\")\n",
    "passing_engagement_per_account = data_per_account(passing_engagement_data_dict,'total_minutes_visited')\n",
    "pass_total_minutes = list(passing_engagement_per_account.values())\n",
    "describe_data(pass_total_minutes)\n",
    "print(\"\\n\\nnon passing students\")\n",
    "non_passing_engagement_per_account = data_per_account(non_passing_engagement_data_dict,'total_minutes_visited')\n",
    "non_pass_total_minutes = list(non_passing_engagement_per_account.values())\n",
    "describe_data(non_pass_total_minutes)"
   ]
  },
  {
   "cell_type": "code",
   "execution_count": 19,
   "metadata": {},
   "outputs": [
    {
     "name": "stdout",
     "output_type": "stream",
     "text": [
      "passing studentes\n",
      "Mean 2.052550231839258\n",
      "Standart deviation: 3.1422270555779344\n",
      "Minmun 0.0\n",
      "Maximun 36.0\n",
      "\n",
      "\n",
      "non passing students\n",
      "Mean 0.8620689655172413\n",
      "Standart deviation: 2.5491599418312028\n",
      "Minmun 0.0\n",
      "Maximun 27.0\n"
     ]
    }
   ],
   "source": [
    "print(\"passing studentes\")\n",
    "passing_engagement_per_account = data_per_account(passing_engagement_data_dict,'lessons_completed')\n",
    "pass_lessons_completed = list(passing_engagement_per_account.values())\n",
    "describe_data(pass_lessons_completed)\n",
    "print(\"\\n\\nnon passing students\")\n",
    "non_passing_engagement_per_account = data_per_account(non_passing_engagement_data_dict,'lessons_completed')\n",
    "non_pass_lessons_completed = list(non_passing_engagement_per_account.values())\n",
    "describe_data(non_pass_lessons_completed)"
   ]
  },
  {
   "cell_type": "code",
   "execution_count": 25,
   "metadata": {},
   "outputs": [
    {
     "name": "stdout",
     "output_type": "stream",
     "text": [
      "passing studentes\n",
      "Mean 3.384853168469861\n",
      "Standart deviation: 2.2588214709184595\n",
      "Minmun 0\n",
      "Maximun 7\n",
      "\n",
      "\n",
      "non passing students\n",
      "Mean 1.9051724137931034\n",
      "Standart deviation: 1.9057314413619046\n",
      "Minmun 0\n",
      "Maximun 7\n"
     ]
    }
   ],
   "source": [
    "print(\"passing studentes\")\n",
    "passing_engagement_per_account = data_per_account(passing_engagement_data_dict,'is_visited')\n",
    "pass_days_visited = list(passing_engagement_per_account.values())\n",
    "describe_data(pass_days_visited)\n",
    "print(\"\\n\\nnon passing students\")\n",
    "non_passing_engagement_per_account = data_per_account(non_passing_engagement_data_dict,'is_visited')\n",
    "non_pass_days_visited = list(non_passing_engagement_per_account.values())\n",
    "describe_data(non_pass_days_visited)"
   ]
  },
  {
   "cell_type": "markdown",
   "metadata": {},
   "source": [
    "### Ploting hystogram"
   ]
  },
  {
   "cell_type": "code",
   "execution_count": 21,
   "metadata": {},
   "outputs": [
    {
     "data": {
      "text/plain": [
       "(array([272.,  34.,  17.,   9.,   6.,   2.,   1.,   5.,   0.,   2.]),\n",
       " array([   0.        ,  176.85227493,  353.70454987,  530.5568248 ,\n",
       "         707.40909973,  884.26137467, 1061.1136496 , 1237.96592453,\n",
       "        1414.81819947, 1591.6704744 , 1768.52274933]),\n",
       " <a list of 10 Patch objects>)"
      ]
     },
     "execution_count": 21,
     "metadata": {},
     "output_type": "execute_result"
    },
    {
     "data": {
      "image/png": "[encoded data removed]",
      "text/plain": [
       "<Figure size 432x288 with 1 Axes>"
      ]
     },
     "metadata": {
      "needs_background": "light"
     },
     "output_type": "display_data"
    }
   ],
   "source": [
    "plt.hist(pass_total_minutes)\n",
    "plt.hist(non_pass_total_minutes)"
   ]
  },
  {
   "cell_type": "code",
   "execution_count": 22,
   "metadata": {},
   "outputs": [
    {
     "data": {
      "text/plain": [
       "(array([317.,  17.,   6.,   4.,   1.,   1.,   0.,   1.,   0.,   1.]),\n",
       " array([ 0. ,  2.7,  5.4,  8.1, 10.8, 13.5, 16.2, 18.9, 21.6, 24.3, 27. ]),\n",
       " <a list of 10 Patch objects>)"
      ]
     },
     "execution_count": 22,
     "metadata": {},
     "output_type": "execute_result"
    },
    {
     "data": {
      "image/png": "[encoded data removed]",
      "text/plain": [
       "<Figure size 432x288 with 1 Axes>"
      ]
     },
     "metadata": {
      "needs_background": "light"
     },
     "output_type": "display_data"
    }
   ],
   "source": [
    "plt.hist(pass_lessons_completed)\n",
    "plt.hist(non_pass_lessons_completed)"
   ]
  },
  {
   "cell_type": "code",
   "execution_count": 36,
   "metadata": {},
   "outputs": [
    {
     "data": {
      "text/plain": [
       "(array([97., 90., 56.,  0., 41., 15.,  0., 24., 17.,  8.]),\n",
       " array([0. , 0.7, 1.4, 2.1, 2.8, 3.5, 4.2, 4.9, 5.6, 6.3, 7. ]),\n",
       " <a list of 10 Patch objects>)"
      ]
     },
     "execution_count": 36,
     "metadata": {},
     "output_type": "execute_result"
    },
    {
     "data": {
      "image/png": "[encoded data removed]",
      "text/plain": [
       "<Figure size 432x288 with 1 Axes>"
      ]
     },
     "metadata": {
      "needs_background": "light"
     },
     "output_type": "display_data"
    }
   ],
   "source": [
    "plt.hist(pass_days_visited)\n",
    "plt.hist(non_pass_days_visited, fc=(0, 0, 0, 0.5))"
   ]
  },
  {
   "cell_type": "code",
   "execution_count": null,
   "metadata": {},
   "outputs": [],
   "source": []
  },
  {
   "cell_type": "code",
   "execution_count": null,
   "metadata": {},
   "outputs": [],
   "source": []
  }
 ],
 "metadata": {
  "kernelspec": {
   "display_name": "Python 3",
   "language": "python",
   "name": "python3"
  },
  "language_info": {
   "codemirror_mode": {
    "name": "ipython",
    "version": 3
   },
   "file_extension": ".py",
   "mimetype": "text/x-python",
   "name": "python",
   "nbconvert_exporter": "python",
   "pygments_lexer": "ipython3",
   "version": "3.6.7"
  }
 },
 "nbformat": 4,
 "nbformat_minor": 2
}
